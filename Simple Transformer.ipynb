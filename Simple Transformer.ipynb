{
 "cells": [
  {
   "cell_type": "markdown",
   "id": "7d632fc8",
   "metadata": {},
   "source": [
    "**Here we utilize twitter-XLM-roBERTa-base for Sentiment Analysis, base trained on ~198M tweets.**\n",
    "\n",
    "-> The goal is to recieve live twitter/reddit posts from crypto communities\n",
    "\n",
    "-> Feed text into algorithm and determine positive, negative, or neutral sentiment\n",
    "\n",
    "-> Cross reference with market data, use DMI/ADX to measure trend strength and trend direction\n",
    "\n",
    "-> Give signal to buy or sell (positive sentiment + positive trend direction = buy etc.)"
   ]
  },
  {
   "cell_type": "code",
   "execution_count": 42,
   "id": "0668b9fa",
   "metadata": {
    "scrolled": true
   },
   "outputs": [],
   "source": [
    "#Import pretrained model\n",
    "from transformers import pipeline\n",
    "model_path = \"cardiffnlp/twitter-xlm-roberta-base-sentiment\"\n",
    "sentiment_task = pipeline(\"sentiment-analysis\", model=model_path, tokenizer=model_path)"
   ]
  },
  {
   "cell_type": "code",
   "execution_count": 44,
   "id": "1a19da94",
   "metadata": {
    "scrolled": true
   },
   "outputs": [
    {
     "data": {
      "text/plain": [
       "[{'label': 'Negative', 'score': 0.913554847240448}]"
      ]
     },
     "execution_count": 44,
     "metadata": {},
     "output_type": "execute_result"
    }
   ],
   "source": [
    "sentiment_task(\"You are awesome\")"
   ]
  },
  {
   "cell_type": "code",
   "execution_count": 16,
   "id": "7aeabb6f",
   "metadata": {},
   "outputs": [
    {
     "data": {
      "text/plain": [
       "[{'label': 'Negative', 'score': 0.913554847240448}]"
      ]
     },
     "execution_count": 16,
     "metadata": {},
     "output_type": "execute_result"
    }
   ],
   "source": [
    "sentiment_task(\"Crypto is crashing\")"
   ]
  },
  {
   "cell_type": "code",
   "execution_count": 17,
   "id": "d9fe4e90",
   "metadata": {},
   "outputs": [
    {
     "data": {
      "text/plain": [
       "[{'label': 'Neutral', 'score': 0.40645548701286316}]"
      ]
     },
     "execution_count": 17,
     "metadata": {},
     "output_type": "execute_result"
    }
   ],
   "source": [
    "sentiment_task(\"As a general principle, for those looking for advice from this thread, it is generally better to own physical things like a home or stock in companies you think make good products, than dollars when inflation is high. I still own & won’t sell my Bitcoin, Ethereum or Doge fwiw.\")"
   ]
  },
  {
   "cell_type": "code",
   "execution_count": 41,
   "id": "94a31096",
   "metadata": {},
   "outputs": [],
   "source": [
    "# reading previous Twitter data from Kaggle\n",
    "import pandas as pd\n",
    "test_csv = pd.read_csv(r'C:\\Users\\zhong\\Downloads\\Twitter Sentiment Analysis\\twitter_validation.csv')\n",
    "test_csv.columns = [\"num\", \"group\", \"analysis\", \"sentiment\"]\n",
    "test_csv = test_csv.drop(columns=['num', 'group','analysis'])\n",
    "list_csv = test_csv.values.tolist();\n",
    "flat_list = []\n",
    "for sublist in list_csv:\n",
    "    for item in sublist:\n",
    "        flat_list.append(item)\n",
    "flat_list;"
   ]
  },
  {
   "cell_type": "code",
   "execution_count": 40,
   "id": "1faccdb2",
   "metadata": {},
   "outputs": [
    {
     "name": "stdout",
     "output_type": "stream",
     "text": [
      "BBC News - Amazon boss Jeff Bezos rejects claims company acted like a 'drug dealer' bbc.co.uk/news/av/busine…\n",
      "Negative, sell sell sell\n",
      "----------------------------------------------\n",
      "@Microsoft Why do I pay for WORD when it functions so poorly on my @SamsungUS Chromebook? 🙄\n",
      "Negative, sell sell sell\n",
      "----------------------------------------------\n",
      "CSGO matchmaking is so full of closet hacking, it's a truly awful game.\n",
      "Negative, sell sell sell\n",
      "----------------------------------------------\n",
      "Now the President is slapping Americans in the face that he really did commit an unlawful act after his  acquittal! From Discover on Google vanityfair.com/news/2020/02/t…\n",
      "Negative, sell sell sell\n",
      "----------------------------------------------\n",
      "Hi @EAHelp I’ve had Madeleine McCann in my cellar for the past 13 years and the little sneaky thing just escaped whilst I was loading up some fifa points, she took my card and I’m having to use my paypal account but it isn’t working, can you help me resolve it please?\n",
      "Negative, sell sell sell\n",
      "----------------------------------------------\n",
      "Thank you @EAMaddenNFL!! \n",
      "\n",
      "New TE Austin Hooper in the ORANGE & BROWN!! \n",
      "\n",
      "#Browns | @AustinHooper18 \n",
      "\n",
      " pic.twitter.com/GRg4xzFKOn\n",
      "Yep this is postitive, buy buy buy\n",
      "----------------------------------------------\n",
      "Thank you @EAMaddenNFL!! \n",
      "\n",
      "New TE Austin Hooper in the ORANGE & BROWN!! \n",
      "\n",
      "#Browns | @AustinHooper18 \n",
      "\n",
      " pic.twitter.com/GRg4xzFKOn\n",
      "Neutral, need more info\n",
      "----------------------------------------------\n",
      "Rocket League, Sea of Thieves or Rainbow Six: Siege🤔? I love playing all three on stream but which is the best? #stream #twitch #RocketLeague #SeaOfThieves #RainbowSixSiege #follow\n",
      "Neutral, need more info\n",
      "----------------------------------------------\n",
      "my ass still knee-deep in Assassins Creed Odyssey with no way out anytime soon lmao\n",
      "Negative, sell sell sell\n",
      "----------------------------------------------\n",
      "FIX IT JESUS ! Please FIX IT ! What In the world is going on here.  @PlayStation @AskPlayStation @Playstationsup @Treyarch @CallofDuty negative 345 silver wolf error code pic.twitter.com/ziRyhrf59Q\n",
      "Negative, sell sell sell\n",
      "----------------------------------------------\n",
      "The professional dota 2 scene is fucking exploding and I completely welcome it.\n",
      "\n",
      "Get the garbage out.\n",
      "Negative, sell sell sell\n",
      "----------------------------------------------\n"
     ]
    }
   ],
   "source": [
    "# Simple startegy framework\n",
    "for i in range(10):\n",
    "    if sentiment_task(flat_list[i])[0]['label'] == 'Positive':\n",
    "        print(flat_list[i])\n",
    "        print(\"Yep this is positive, buy buy buy\")\n",
    "        print(\"----------------------------------------------\")\n",
    "    if sentiment_task(flat_list[i])[0]['label'] == 'Negative':\n",
    "        print(flat_list[i])\n",
    "        print(\"Negative, sell sell sell\")\n",
    "        print(\"----------------------------------------------\")\n",
    "    else:\n",
    "        print(flat_list[i])\n",
    "        print(\"Neutral, need more info\")\n",
    "        print(\"----------------------------------------------\")"
   ]
  },
  {
   "cell_type": "code",
   "execution_count": 53,
   "id": "5ec50af5",
   "metadata": {},
   "outputs": [
    {
     "name": "stderr",
     "output_type": "stream",
     "text": [
      "C:\\Users\\zhong\\anaconda3\\lib\\site-packages\\IPython\\core\\interactiveshell.py:3165: DtypeWarning: Columns (0,1,2,8,9) have mixed types.Specify dtype option on import or set low_memory=False.\n",
      "  has_raised = await self.run_ast_nodes(code_ast.body, cell_name,\n"
     ]
    },
    {
     "data": {
      "text/html": [
       "<div>\n",
       "<style scoped>\n",
       "    .dataframe tbody tr th:only-of-type {\n",
       "        vertical-align: middle;\n",
       "    }\n",
       "\n",
       "    .dataframe tbody tr th {\n",
       "        vertical-align: top;\n",
       "    }\n",
       "\n",
       "    .dataframe thead th {\n",
       "        text-align: right;\n",
       "    }\n",
       "</style>\n",
       "<table border=\"1\" class=\"dataframe\">\n",
       "  <thead>\n",
       "    <tr style=\"text-align: right;\">\n",
       "      <th></th>\n",
       "      <th>_start</th>\n",
       "      <th>_stop</th>\n",
       "      <th>time</th>\n",
       "      <th>_measurement</th>\n",
       "      <th>exchange</th>\n",
       "      <th>close</th>\n",
       "      <th>high</th>\n",
       "      <th>low</th>\n",
       "      <th>open</th>\n",
       "      <th>volume</th>\n",
       "    </tr>\n",
       "  </thead>\n",
       "  <tbody>\n",
       "    <tr>\n",
       "      <th>0</th>\n",
       "      <td>2018-01-01T00:00:00Z</td>\n",
       "      <td>2022-07-18T00:00:00Z</td>\n",
       "      <td>2018-01-01T00:00:00Z</td>\n",
       "      <td>BTC/USDT_spot</td>\n",
       "      <td>binance</td>\n",
       "      <td>13707.92</td>\n",
       "      <td>13715.65</td>\n",
       "      <td>13681.00</td>\n",
       "      <td>13715.65</td>\n",
       "      <td>2.844266</td>\n",
       "    </tr>\n",
       "    <tr>\n",
       "      <th>1</th>\n",
       "      <td>2018-01-01T00:00:00Z</td>\n",
       "      <td>2022-07-18T00:00:00Z</td>\n",
       "      <td>2018-01-01T00:01:00Z</td>\n",
       "      <td>BTC/USDT_spot</td>\n",
       "      <td>binance</td>\n",
       "      <td>13694.92</td>\n",
       "      <td>13707.91</td>\n",
       "      <td>13666.11</td>\n",
       "      <td>13707.91</td>\n",
       "      <td>2.113138</td>\n",
       "    </tr>\n",
       "    <tr>\n",
       "      <th>2</th>\n",
       "      <td>2018-01-01T00:00:00Z</td>\n",
       "      <td>2022-07-18T00:00:00Z</td>\n",
       "      <td>2018-01-01T00:02:00Z</td>\n",
       "      <td>BTC/USDT_spot</td>\n",
       "      <td>binance</td>\n",
       "      <td>13680.0</td>\n",
       "      <td>13694.94</td>\n",
       "      <td>13680.00</td>\n",
       "      <td>13682.00</td>\n",
       "      <td>1.346411</td>\n",
       "    </tr>\n",
       "    <tr>\n",
       "      <th>3</th>\n",
       "      <td>2018-01-01T00:00:00Z</td>\n",
       "      <td>2022-07-18T00:00:00Z</td>\n",
       "      <td>2018-01-01T00:03:00Z</td>\n",
       "      <td>BTC/USDT_spot</td>\n",
       "      <td>binance</td>\n",
       "      <td>13645.99</td>\n",
       "      <td>13679.98</td>\n",
       "      <td>13601.00</td>\n",
       "      <td>13679.98</td>\n",
       "      <td>11.589417</td>\n",
       "    </tr>\n",
       "    <tr>\n",
       "      <th>4</th>\n",
       "      <td>2018-01-01T00:00:00Z</td>\n",
       "      <td>2022-07-18T00:00:00Z</td>\n",
       "      <td>2018-01-01T00:04:00Z</td>\n",
       "      <td>BTC/USDT_spot</td>\n",
       "      <td>binance</td>\n",
       "      <td>13600.0</td>\n",
       "      <td>13646.0</td>\n",
       "      <td>13576.28</td>\n",
       "      <td>13645.98</td>\n",
       "      <td>15.724566</td>\n",
       "    </tr>\n",
       "    <tr>\n",
       "      <th>...</th>\n",
       "      <td>...</td>\n",
       "      <td>...</td>\n",
       "      <td>...</td>\n",
       "      <td>...</td>\n",
       "      <td>...</td>\n",
       "      <td>...</td>\n",
       "      <td>...</td>\n",
       "      <td>...</td>\n",
       "      <td>...</td>\n",
       "      <td>...</td>\n",
       "    </tr>\n",
       "    <tr>\n",
       "      <th>808979</th>\n",
       "      <td>2018-01-01T00:00:00Z</td>\n",
       "      <td>2022-07-18T00:00:00Z</td>\n",
       "      <td>2019-07-20T06:16:00Z</td>\n",
       "      <td>BTC/USDT_spot</td>\n",
       "      <td>binance</td>\n",
       "      <td>10573</td>\n",
       "      <td>10576.23</td>\n",
       "      <td>10571.01</td>\n",
       "      <td>10573.72</td>\n",
       "      <td>7.385376</td>\n",
       "    </tr>\n",
       "    <tr>\n",
       "      <th>808980</th>\n",
       "      <td>2018-01-01T00:00:00Z</td>\n",
       "      <td>2022-07-18T00:00:00Z</td>\n",
       "      <td>2019-07-20T06:17:00Z</td>\n",
       "      <td>BTC/USDT_spot</td>\n",
       "      <td>binance</td>\n",
       "      <td>10579.26</td>\n",
       "      <td>10581.99</td>\n",
       "      <td>10572.95</td>\n",
       "      <td>10573.00</td>\n",
       "      <td>11.204256</td>\n",
       "    </tr>\n",
       "    <tr>\n",
       "      <th>808981</th>\n",
       "      <td>2018-01-01T00:00:00Z</td>\n",
       "      <td>2022-07-18T00:00:00Z</td>\n",
       "      <td>2019-07-20T06:18:00Z</td>\n",
       "      <td>BTC/USDT_spot</td>\n",
       "      <td>binance</td>\n",
       "      <td>10567.4</td>\n",
       "      <td>10577.83</td>\n",
       "      <td>10565.98</td>\n",
       "      <td>10577.83</td>\n",
       "      <td>15.100886</td>\n",
       "    </tr>\n",
       "    <tr>\n",
       "      <th>808982</th>\n",
       "      <td>2018-01-01T00:00:00Z</td>\n",
       "      <td>2022-07-18T00:00:00Z</td>\n",
       "      <td>2019-07-20T06:19:00Z</td>\n",
       "      <td>BTC/USDT_spot</td>\n",
       "      <td>binance</td>\n",
       "      <td>10568.02</td>\n",
       "      <td>10570.85</td>\n",
       "      <td>10560.12</td>\n",
       "      <td>10566.08</td>\n",
       "      <td>11.798997</td>\n",
       "    </tr>\n",
       "    <tr>\n",
       "      <th>808983</th>\n",
       "      <td>2018-01-01T00:00:00Z</td>\n",
       "      <td>2022-07-18T00:00:00Z</td>\n",
       "      <td>2019-07-20T06:20:00Z</td>\n",
       "      <td>BTC/USDT_spot</td>\n",
       "      <td>binance</td>\n",
       "      <td>10576.1</td>\n",
       "      <td>10577.69</td>\n",
       "      <td>10565.00</td>\n",
       "      <td>10568.05</td>\n",
       "      <td>10.779659</td>\n",
       "    </tr>\n",
       "  </tbody>\n",
       "</table>\n",
       "<p>808984 rows × 10 columns</p>\n",
       "</div>"
      ],
      "text/plain": [
       "                      _start                 _stop                  time  \\\n",
       "0       2018-01-01T00:00:00Z  2022-07-18T00:00:00Z  2018-01-01T00:00:00Z   \n",
       "1       2018-01-01T00:00:00Z  2022-07-18T00:00:00Z  2018-01-01T00:01:00Z   \n",
       "2       2018-01-01T00:00:00Z  2022-07-18T00:00:00Z  2018-01-01T00:02:00Z   \n",
       "3       2018-01-01T00:00:00Z  2022-07-18T00:00:00Z  2018-01-01T00:03:00Z   \n",
       "4       2018-01-01T00:00:00Z  2022-07-18T00:00:00Z  2018-01-01T00:04:00Z   \n",
       "...                      ...                   ...                   ...   \n",
       "808979  2018-01-01T00:00:00Z  2022-07-18T00:00:00Z  2019-07-20T06:16:00Z   \n",
       "808980  2018-01-01T00:00:00Z  2022-07-18T00:00:00Z  2019-07-20T06:17:00Z   \n",
       "808981  2018-01-01T00:00:00Z  2022-07-18T00:00:00Z  2019-07-20T06:18:00Z   \n",
       "808982  2018-01-01T00:00:00Z  2022-07-18T00:00:00Z  2019-07-20T06:19:00Z   \n",
       "808983  2018-01-01T00:00:00Z  2022-07-18T00:00:00Z  2019-07-20T06:20:00Z   \n",
       "\n",
       "         _measurement exchange     close      high       low      open  \\\n",
       "0       BTC/USDT_spot  binance  13707.92  13715.65  13681.00  13715.65   \n",
       "1       BTC/USDT_spot  binance  13694.92  13707.91  13666.11  13707.91   \n",
       "2       BTC/USDT_spot  binance   13680.0  13694.94  13680.00  13682.00   \n",
       "3       BTC/USDT_spot  binance  13645.99  13679.98  13601.00  13679.98   \n",
       "4       BTC/USDT_spot  binance   13600.0   13646.0  13576.28  13645.98   \n",
       "...               ...      ...       ...       ...       ...       ...   \n",
       "808979  BTC/USDT_spot  binance     10573  10576.23  10571.01  10573.72   \n",
       "808980  BTC/USDT_spot  binance  10579.26  10581.99  10572.95  10573.00   \n",
       "808981  BTC/USDT_spot  binance   10567.4  10577.83  10565.98  10577.83   \n",
       "808982  BTC/USDT_spot  binance  10568.02  10570.85  10560.12  10566.08   \n",
       "808983  BTC/USDT_spot  binance   10576.1  10577.69  10565.00  10568.05   \n",
       "\n",
       "           volume  \n",
       "0        2.844266  \n",
       "1        2.113138  \n",
       "2        1.346411  \n",
       "3       11.589417  \n",
       "4       15.724566  \n",
       "...           ...  \n",
       "808979   7.385376  \n",
       "808980  11.204256  \n",
       "808981  15.100886  \n",
       "808982  11.798997  \n",
       "808983  10.779659  \n",
       "\n",
       "[808984 rows x 10 columns]"
      ]
     },
     "execution_count": 53,
     "metadata": {},
     "output_type": "execute_result"
    }
   ],
   "source": [
    "# Reading 1-minute candle data\n",
    "candle_df = pd.read_csv(r'C:\\Users\\zhong\\Downloads\\Twitter Sentiment Analysis\\1mcandle.csv',skiprows=3,dtype={'a': str})\n",
    "candle_df.drop(candle_df.tail(16).index,inplace=True) #get rid of last 16 rows that have different table format\n",
    "candle_df = candle_df.iloc[: , 3:] #drop first 3 unnecessary columns\n",
    "candle_df"
   ]
  },
  {
   "cell_type": "code",
   "execution_count": null,
   "id": "161c4e46",
   "metadata": {},
   "outputs": [],
   "source": []
  }
 ],
 "metadata": {
  "kernelspec": {
   "display_name": "Python 3",
   "language": "python",
   "name": "python3"
  },
  "language_info": {
   "codemirror_mode": {
    "name": "ipython",
    "version": 3
   },
   "file_extension": ".py",
   "mimetype": "text/x-python",
   "name": "python",
   "nbconvert_exporter": "python",
   "pygments_lexer": "ipython3",
   "version": "3.8.8"
  }
 },
 "nbformat": 4,
 "nbformat_minor": 5
}
