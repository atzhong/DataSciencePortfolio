{
 "cells": [
  {
   "cell_type": "markdown",
   "id": "7d632fc8",
   "metadata": {},
   "source": [
    "**Updated 8/3/2022**\n",
    "**Here we utilize twitter-XLM-roBERTa-base for Sentiment Analysis, base trained on ~198M tweets.**\n",
    "With a new project direction, I will be developing a tool for bot builders/quants that will give them insights on trending topics in the crypto sphere. \n",
    "This tool will be in the form word clouds, displayed on the CA platform, based on different currencies that will update frequently."
   ]
  },
  {
   "cell_type": "code",
   "execution_count": 18,
   "id": "a82ae8d5",
   "metadata": {},
   "outputs": [],
   "source": [
    "# import WordCloud\n",
    "import matplotlib.pyplot as plt\n",
    "from wordcloud import WordCloud, STOPWORDS\n",
    "stopwords = STOPWORDS"
   ]
  },
  {
   "cell_type": "code",
   "execution_count": 13,
   "id": "0668b9fa",
   "metadata": {
    "scrolled": true
   },
   "outputs": [],
   "source": [
    "# import pretrained model\n",
    "from transformers import pipeline\n",
    "model_path = \"cardiffnlp/twitter-xlm-roberta-base-sentiment\"\n",
    "sentiment_task = pipeline(\"sentiment-analysis\", model=model_path, tokenizer=model_path)"
   ]
  },
  {
   "cell_type": "code",
   "execution_count": 14,
   "id": "919b1190",
   "metadata": {},
   "outputs": [
    {
     "data": {
      "text/plain": [
       "[{'label': 'Positive', 'score': 0.9297959804534912}]"
      ]
     },
     "execution_count": 14,
     "metadata": {},
     "output_type": "execute_result"
    }
   ],
   "source": [
    "# example \n",
    "sentiment_task(\"You are awesome\")"
   ]
  },
  {
   "cell_type": "code",
   "execution_count": 15,
   "id": "94a31096",
   "metadata": {},
   "outputs": [],
   "source": [
    "# read previous Twitter data from Kaggle\n",
    "import pandas as pd\n",
    "test_csv = pd.read_csv(r'C:\\Users\\zhong\\Downloads\\Twitter Sentiment Analysis\\twitter_validation.csv')\n",
    "test_csv.columns = [\"num\", \"group\", \"analysis\", \"sentiment\"]\n",
    "test_csv = test_csv.drop(columns=['num', 'group','analysis'])\n",
    "list_csv = test_csv.values.tolist();\n",
    "flat_list = []\n",
    "for sublist in list_csv:\n",
    "    for item in sublist:\n",
    "        flat_list.append(item)\n",
    "flat_list;\n",
    "\n",
    "with open(\"flat_list.txt\", \"w\", encoding = \"utf-8\") as output:\n",
    "    output.write(str(flat_list))\n",
    "output.close()"
   ]
  },
  {
   "cell_type": "code",
   "execution_count": 25,
   "id": "1faccdb2",
   "metadata": {},
   "outputs": [],
   "source": [
    "# create 2 sublists - positive and negative sentiments\n",
    "pos_list = []\n",
    "neg_list = []\n",
    "for i in range(100):\n",
    "    if sentiment_task(flat_list[i])[0]['label'] == 'Positive':\n",
    "        pos_list.append(flat_list[i])\n",
    "    else:\n",
    "        neg_list.append(flat_list[i])\n"
   ]
  },
  {
   "cell_type": "code",
   "execution_count": 17,
   "id": "161c4e46",
   "metadata": {},
   "outputs": [
    {
     "data": {
      "text/plain": [
       "['Thank you @EAMaddenNFL!! \\n\\nNew TE Austin Hooper in the ORANGE & BROWN!! \\n\\n#Browns | @AustinHooper18 \\n\\n pic.twitter.com/GRg4xzFKOn',\n",
       " 'Congrats to the NVIDIA NeMo team for the 1.0.0 release candidate!\\nReally excited to see NeMo embracing Hydra as the way to take control over the configuration madness that is machine learning! :)',\n",
       " 'yeah and it’s fun',\n",
       " 'happy birthday red dead redemption that shit changed my life what a crazy experience',\n",
       " 'The new @CallofDuty for ps5 is 🔥🔥🔥🔥\\nOh God 😭😍',\n",
       " \"Call of duty warzone (livestream) w/ subs #Warzone youtu.be/7BhH_pjOMU4 via @YouTube Please come watch this AMAZING Call of Duty Warzone stream from this AMAZING streamer! It'd be really, really nice to give him some views and likes as well! 😀 #COD #CallofDuty #Warzone\",\n",
       " 'Finally played Rainbow Six Siege for the first time... I have to admit, I prefer it over pulling my hair out in CSGO any day.',\n",
       " '#gtc20 -  nice, motivational, and very accessible Nvidia/AI product fair + related tech talks\\nnvidia.com/en-us/gtc/keyn…\\ninteresting interaction/social activities: braindates, dinner with strangers, ...  and free attendance for universities: reg.rainfocus.com/flow/nvidia/gt…',\n",
       " 'Best squad yet#pubg #pubgmobile #pubgkenya instagram.com/p/B-Obt_eAA4f/…',\n",
       " 'Watching NVIDIA position itself as not just a leading hardware manufacturer but also providing meaningful software to consumers is a remarkable thing of beauty. What an incredibly lead company with clear focus and goals. Well done @nvidia.',\n",
       " 'I don’t see how this looks like as Xbox controller but y’all will say anything. Anyway this is fire.',\n",
       " 'The things I would do for a @nvidia 3090... unspeakable! 🧐',\n",
       " 'Great play dude , what a good optic for the mk2 Carbine too 👌',\n",
       " 'Just finished Assassins Creed Odyssey through @Shadow_Official @Shadow_NA from the beginning to the end. Thanks for the amazing gaming experience on your service 👏',\n",
       " 'Not gonna lie that Black Ops cold war trailer was probably the best COD teaser I have ever seen',\n",
       " 'So yesterday, I decided to go back to Overwatch... and I forgot just how much I loved playing it. Now all I want to do is play it and do nothing else >.< I mean, the event is on atm.. gotta get me that Pharah skin as I have Anas already! 💛']"
      ]
     },
     "execution_count": 17,
     "metadata": {},
     "output_type": "execute_result"
    }
   ],
   "source": [
    "pos_list"
   ]
  },
  {
   "cell_type": "code",
   "execution_count": 28,
   "id": "9b771520",
   "metadata": {},
   "outputs": [
    {
     "data": {
      "text/plain": [
       "<wordcloud.wordcloud.WordCloud at 0x207950d1bb0>"
      ]
     },
     "execution_count": 28,
     "metadata": {},
     "output_type": "execute_result"
    }
   ],
   "source": [
    "wc = WordCloud(background_color = 'white', \n",
    "               stopwords = stopwords, \n",
    "               height = 600, \n",
    "               width = 600)\n",
    "wc.generate(str(pos_list))\n",
    "wc.to_file('wordcloud_output.png')"
   ]
  },
  {
   "cell_type": "code",
   "execution_count": 29,
   "id": "02c1b9e7",
   "metadata": {},
   "outputs": [
    {
     "data": {
      "text/plain": [
       "<wordcloud.wordcloud.WordCloud at 0x20794e35b50>"
      ]
     },
     "execution_count": 29,
     "metadata": {},
     "output_type": "execute_result"
    }
   ],
   "source": [
    "wc = WordCloud(background_color = 'white', \n",
    "               stopwords = stopwords, \n",
    "               height = 600, \n",
    "               width = 600)\n",
    "wc.generate(str(neg_list))\n",
    "wc.to_file('neg_wordcloud_output.png')"
   ]
  },
  {
   "cell_type": "code",
   "execution_count": null,
   "id": "d67b9a99",
   "metadata": {},
   "outputs": [],
   "source": []
  }
 ],
 "metadata": {
  "kernelspec": {
   "display_name": "Python 3",
   "language": "python",
   "name": "python3"
  },
  "language_info": {
   "codemirror_mode": {
    "name": "ipython",
    "version": 3
   },
   "file_extension": ".py",
   "mimetype": "text/x-python",
   "name": "python",
   "nbconvert_exporter": "python",
   "pygments_lexer": "ipython3",
   "version": "3.8.8"
  }
 },
 "nbformat": 4,
 "nbformat_minor": 5
}
